{
 "cells": [
  {
   "attachments": {},
   "cell_type": "markdown",
   "metadata": {},
   "source": [
    "# Get sentence-wise sentiment from customer reviews"
   ]
  },
  {
   "cell_type": "code",
   "execution_count": 1,
   "metadata": {},
   "outputs": [
    {
     "name": "stderr",
     "output_type": "stream",
     "text": [
      "c:\\Users\\blahb\\anaconda3\\lib\\site-packages\\requests\\__init__.py:109: RequestsDependencyWarning: urllib3 (1.26.15) or chardet (5.1.0)/charset_normalizer (2.0.4) doesn't match a supported version!\n",
      "  warnings.warn(\n"
     ]
    }
   ],
   "source": [
    "import pandas as pd\n",
    "import numpy as np\n",
    "import stanza\n",
    "import time\n",
    "from IPython.display import display, clear_output\n"
   ]
  },
  {
   "cell_type": "code",
   "execution_count": 2,
   "metadata": {},
   "outputs": [],
   "source": [
    "review_df = pd.read_csv(\"D:\\\\My-Projects\\\\yelp-customer-satisfaction-improvement\\\\review\\\\review_corrected_text.csv\")"
   ]
  },
  {
   "attachments": {},
   "cell_type": "markdown",
   "metadata": {},
   "source": [
    "1. split the business_ids into 50-50. \n",
    "2. run 2 scripts with first 50 businesses and the remaining businesses.\n",
    "3. write processed information in a new directory.\n"
   ]
  },
  {
   "cell_type": "code",
   "execution_count": 3,
   "metadata": {},
   "outputs": [],
   "source": [
    "business_ids = review_df.groupby('business_id')['stars'].count().sort_values().index.to_list()\n"
   ]
  },
  {
   "cell_type": "code",
   "execution_count": 4,
   "metadata": {},
   "outputs": [],
   "source": [
    "# split the business_ids into two batches. process reviews for these two batches in parallel.\n",
    "first_batch = business_ids[:50]\n",
    "second_batch = business_ids[50:]"
   ]
  },
  {
   "cell_type": "code",
   "execution_count": 14,
   "metadata": {},
   "outputs": [],
   "source": [
    "pending_b_ids_1 = pd.DataFrame(list(zip(first_batch, np.arange(0, 50, 1))), columns=['business_id', 'serial_num'])\n",
    "pending_b_ids_2 = pd.DataFrame(list(zip(second_batch, np.arange(50, 101))), columns=['business_id', 'serial_num'])"
   ]
  },
  {
   "cell_type": "code",
   "execution_count": 15,
   "metadata": {},
   "outputs": [],
   "source": [
    "pending_b_ids_1.to_csv(\"sentence_sentiment/pending_b_ids_1.csv\", index=False)\n",
    "pending_b_ids_2.to_csv('sentence_sentiment/pending_b_ids_2.csv', index=False)"
   ]
  },
  {
   "cell_type": "code",
   "execution_count": 16,
   "metadata": {},
   "outputs": [],
   "source": [
    "b_ids_processed_1 = pd.DataFrame(columns=['business_id', 'serial_num'])\n",
    "b_ids_processed_2 = pd.DataFrame(columns=['business_id', 'serial_num'])"
   ]
  },
  {
   "cell_type": "code",
   "execution_count": 17,
   "metadata": {},
   "outputs": [],
   "source": [
    "b_ids_processed_1.to_csv('sentence_sentiment/b_ids_processed_1.csv', index=False)\n",
    "b_ids_processed_2.to_csv('sentence_sentiment/b_ids_processed_2.csv', index=False)"
   ]
  },
  {
   "attachments": {},
   "cell_type": "markdown",
   "metadata": {},
   "source": [
    "# steps to parallel processing of reviews\n",
    "1. create empty file b_ids_processed_1.csv, b_ids_processed_2.csv\n",
    "2. this file path should be given through command line. (second iteration).\n",
    "3. load all business_ids required to be processed, sorted in ascending order of review count.\n",
    "4. write half of the business_id into files pending_b_ids_1.csv, pending_b_ids_2.csv.\n",
    "5. Give pending_b_ids{1/2}.csv as input.\n",
    "6. write the processed business_id into b_ids_processed{1/2}.csv\n",
    "7. "
   ]
  }
 ],
 "metadata": {
  "kernelspec": {
   "display_name": "base",
   "language": "python",
   "name": "python3"
  },
  "language_info": {
   "codemirror_mode": {
    "name": "ipython",
    "version": 3
   },
   "file_extension": ".py",
   "mimetype": "text/x-python",
   "name": "python",
   "nbconvert_exporter": "python",
   "pygments_lexer": "ipython3",
   "version": "3.9.16"
  },
  "orig_nbformat": 4
 },
 "nbformat": 4,
 "nbformat_minor": 2
}
