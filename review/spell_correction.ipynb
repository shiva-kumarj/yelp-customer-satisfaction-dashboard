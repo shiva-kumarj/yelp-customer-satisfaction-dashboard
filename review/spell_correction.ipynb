{
 "cells": [
  {
   "cell_type": "code",
   "execution_count": 1,
   "metadata": {},
   "outputs": [],
   "source": [
    "import pandas as pd\n",
    "import numpy as np\n",
    "from spellchecker import SpellChecker\n"
   ]
  },
  {
   "cell_type": "code",
   "execution_count": 2,
   "metadata": {},
   "outputs": [],
   "source": [
    "# Load dataset\n",
    "review_df = pd.read_csv('reviews_of_important_businesses.csv', low_memory=False)"
   ]
  },
  {
   "cell_type": "code",
   "execution_count": 3,
   "metadata": {},
   "outputs": [],
   "source": [
    "# Drop useless column\n",
    "review_df.drop('_id', axis=1, inplace=True)"
   ]
  },
  {
   "cell_type": "code",
   "execution_count": 6,
   "metadata": {},
   "outputs": [],
   "source": [
    "# Initialize PySpellChecker\n",
    "spell = SpellChecker()\n",
    " \n",
    "# Define a user-defined function (UDF) to correct the spelling\n",
    "def correct_spelling(text):\n",
    "    corrected_words = []\n",
    "    if text is None:\n",
    "        return ''\n",
    "    words = text.split()\n",
    "    for word in words:\n",
    "        period = \"\"\n",
    "        if \".\" in word:\n",
    "            period = \".\"\n",
    "        if spell.correction(word) is not None:\n",
    "            corrected_words.append(spell.correction(word) + period)\n",
    "        else:\n",
    "            corrected_words.append(word + period)\n",
    "    return ' '.join(corrected_words)"
   ]
  },
  {
   "cell_type": "code",
   "execution_count": 7,
   "metadata": {},
   "outputs": [],
   "source": [
    "# Fix data type of \"date\" column\n",
    "review_df['date'] = pd.to_datetime(review_df['date'])"
   ]
  },
  {
   "cell_type": "code",
   "execution_count": 8,
   "metadata": {},
   "outputs": [],
   "source": [
    "# Remove null values in \"text\" column\n",
    "review_df.dropna(subset=['text'], inplace=True)"
   ]
  },
  {
   "cell_type": "code",
   "execution_count": 9,
   "metadata": {},
   "outputs": [],
   "source": [
    "# Running Spell checker on the text column \n",
    "review_df['corrected_text'] = review_df['text'].apply(lambda x: correct_spelling(x))"
   ]
  },
  {
   "cell_type": "code",
   "execution_count": 66,
   "metadata": {},
   "outputs": [],
   "source": [
    "# Write corrected file to disk\n",
    "review_df.to_csv('review_corrected_text.csv', index=False)"
   ]
  }
 ],
 "metadata": {
  "kernelspec": {
   "display_name": "base",
   "language": "python",
   "name": "python3"
  },
  "language_info": {
   "codemirror_mode": {
    "name": "ipython",
    "version": 3
   },
   "file_extension": ".py",
   "mimetype": "text/x-python",
   "name": "python",
   "nbconvert_exporter": "python",
   "pygments_lexer": "ipython3",
   "version": "3.9.16"
  },
  "orig_nbformat": 4
 },
 "nbformat": 4,
 "nbformat_minor": 2
}
