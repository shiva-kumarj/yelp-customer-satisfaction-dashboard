{
 "cells": [
  {
   "cell_type": "code",
   "execution_count": 16,
   "metadata": {},
   "outputs": [],
   "source": [
    "import pandas as pd\n",
    "import numpy as np\n",
    "import stanza\n",
    "from spellchecker import SpellChecker\n",
    "from IPython.display import display, clear_output\n"
   ]
  },
  {
   "cell_type": "code",
   "execution_count": 2,
   "metadata": {},
   "outputs": [],
   "source": [
    "tip_df = pd.read_csv(\"tips_for_important_businesses.csv\")"
   ]
  },
  {
   "cell_type": "code",
   "execution_count": 4,
   "metadata": {},
   "outputs": [],
   "source": [
    "tip_df = tip_df.drop('_id', axis=1)"
   ]
  },
  {
   "cell_type": "code",
   "execution_count": 5,
   "metadata": {},
   "outputs": [
    {
     "data": {
      "text/html": [
       "<div>\n",
       "<style scoped>\n",
       "    .dataframe tbody tr th:only-of-type {\n",
       "        vertical-align: middle;\n",
       "    }\n",
       "\n",
       "    .dataframe tbody tr th {\n",
       "        vertical-align: top;\n",
       "    }\n",
       "\n",
       "    .dataframe thead th {\n",
       "        text-align: right;\n",
       "    }\n",
       "</style>\n",
       "<table border=\"1\" class=\"dataframe\">\n",
       "  <thead>\n",
       "    <tr style=\"text-align: right;\">\n",
       "      <th></th>\n",
       "      <th>business_id</th>\n",
       "      <th>date</th>\n",
       "      <th>compliment_count</th>\n",
       "      <th>text</th>\n",
       "    </tr>\n",
       "  </thead>\n",
       "  <tbody>\n",
       "    <tr>\n",
       "      <th>0</th>\n",
       "      <td>Cjwb7VQGP0u2eWYj1wnO3g</td>\n",
       "      <td>2014-06-25 21:32:46</td>\n",
       "      <td>0</td>\n",
       "      <td>great rooftop</td>\n",
       "    </tr>\n",
       "    <tr>\n",
       "      <th>1</th>\n",
       "      <td>1N9WC6FwF8MSc7BHbIP35A</td>\n",
       "      <td>2016-12-07 22:08:12</td>\n",
       "      <td>0</td>\n",
       "      <td>great food  lovely service! had the lentil sou...</td>\n",
       "    </tr>\n",
       "    <tr>\n",
       "      <th>2</th>\n",
       "      <td>_A2YtPqLxss0uLhRey5yCw</td>\n",
       "      <td>2014-09-18 00:21:05</td>\n",
       "      <td>0</td>\n",
       "      <td>great variety of food</td>\n",
       "    </tr>\n",
       "    <tr>\n",
       "      <th>3</th>\n",
       "      <td>qY-BUQY-SFBaSrFHowF3nA</td>\n",
       "      <td>2016-01-26 18:11:02</td>\n",
       "      <td>0</td>\n",
       "      <td>great meal i really like their hot pot</td>\n",
       "    </tr>\n",
       "    <tr>\n",
       "      <th>4</th>\n",
       "      <td>y6-J_UjNk69VNLb39c_5CA</td>\n",
       "      <td>2011-04-12 21:55:52</td>\n",
       "      <td>0</td>\n",
       "      <td>champagne toast cheese  oysters.</td>\n",
       "    </tr>\n",
       "  </tbody>\n",
       "</table>\n",
       "</div>"
      ],
      "text/plain": [
       "              business_id                 date  compliment_count  \\\n",
       "0  Cjwb7VQGP0u2eWYj1wnO3g  2014-06-25 21:32:46                 0   \n",
       "1  1N9WC6FwF8MSc7BHbIP35A  2016-12-07 22:08:12                 0   \n",
       "2  _A2YtPqLxss0uLhRey5yCw  2014-09-18 00:21:05                 0   \n",
       "3  qY-BUQY-SFBaSrFHowF3nA  2016-01-26 18:11:02                 0   \n",
       "4  y6-J_UjNk69VNLb39c_5CA  2011-04-12 21:55:52                 0   \n",
       "\n",
       "                                                text  \n",
       "0                                      great rooftop  \n",
       "1  great food  lovely service! had the lentil sou...  \n",
       "2                              great variety of food  \n",
       "3             great meal i really like their hot pot  \n",
       "4                   champagne toast cheese  oysters.  "
      ]
     },
     "execution_count": 5,
     "metadata": {},
     "output_type": "execute_result"
    }
   ],
   "source": [
    "tip_df.head()"
   ]
  },
  {
   "cell_type": "code",
   "execution_count": 8,
   "metadata": {},
   "outputs": [],
   "source": [
    "tip_df.loc[:, 'date'] = pd.to_datetime(tip_df['date'])"
   ]
  },
  {
   "cell_type": "code",
   "execution_count": 10,
   "metadata": {},
   "outputs": [],
   "source": [
    "# Initialize PySpellChecker\n",
    "spell = SpellChecker()\n",
    " \n",
    "# Define a user-defined function (UDF) to correct the spelling\n",
    "def correct_spelling(text):\n",
    "    corrected_words = []\n",
    "    if text is None:\n",
    "        return ''\n",
    "    words = text.split()\n",
    "    for word in words:\n",
    "        period = \"\"\n",
    "        if \".\" in word:\n",
    "            period = \".\"\n",
    "        if spell.correction(word) is not None:\n",
    "            corrected_words.append(spell.correction(word) + period)\n",
    "        else:\n",
    "            corrected_words.append(word + period)\n",
    "    return ' '.join(corrected_words)"
   ]
  },
  {
   "cell_type": "code",
   "execution_count": 11,
   "metadata": {},
   "outputs": [],
   "source": [
    "tip_df.dropna(subset=['text'], inplace=True)"
   ]
  },
  {
   "cell_type": "code",
   "execution_count": 12,
   "metadata": {},
   "outputs": [],
   "source": [
    "tip_df['corrected_text'] = tip_df['text'].apply(lambda x: correct_spelling(x))"
   ]
  },
  {
   "cell_type": "code",
   "execution_count": 17,
   "metadata": {},
   "outputs": [
    {
     "name": "stderr",
     "output_type": "stream",
     "text": [
      "2023-06-27 18:45:54 INFO: Checking for updates to resources.json in case models have been updated.  Note: this behavior can be turned off with download_method=None or download_method=DownloadMethod.REUSE_RESOURCES\n"
     ]
    },
    {
     "data": {
      "application/vnd.jupyter.widget-view+json": {
       "model_id": "0e305ccdcc81403190a133aacec7f2d4",
       "version_major": 2,
       "version_minor": 0
      },
      "text/plain": [
       "Downloading https://raw.githubusercontent.com/stanfordnlp/stanza-resources/main/resources_1.5.0.json:   0%|   …"
      ]
     },
     "metadata": {},
     "output_type": "display_data"
    },
    {
     "name": "stderr",
     "output_type": "stream",
     "text": [
      "2023-06-27 18:45:54 WARNING: Can not find mwt: default from official model list. Ignoring it.\n",
      "2023-06-27 18:45:54 INFO: Loading these models for language: en (English):\n",
      "========================\n",
      "| Processor | Package  |\n",
      "------------------------\n",
      "| tokenize  | combined |\n",
      "| pos       | combined |\n",
      "| sentiment | sstplus  |\n",
      "========================\n",
      "\n",
      "2023-06-27 18:45:54 WARNING: GPU requested, but is not available!\n",
      "2023-06-27 18:45:54 INFO: Using device: cpu\n",
      "2023-06-27 18:45:54 INFO: Loading: tokenize\n",
      "2023-06-27 18:45:54 INFO: Loading: pos\n",
      "2023-06-27 18:45:55 INFO: Loading: sentiment\n",
      "2023-06-27 18:45:55 INFO: Done loading processors!\n"
     ]
    }
   ],
   "source": [
    "nlp = stanza.Pipeline(processors='tokenize,mwt,pos,sentiment', lang='en', use_gpu=True)\n",
    "# Retrieve the sentiment of each noun from a sentence\n",
    "number_of_records = len(tip_df)\n",
    "\n",
    "def get_noun_sentiment(review, record_count):\n",
    "    noun_sentiment_map = {}\n",
    "    flat_sentiment = ''\n",
    "    # start_time_cpu = time.time()\n",
    "    for sentence in nlp(review).sentences:\n",
    "        sentiment = sentence.sentiment\n",
    "        for word in sentence.words:\n",
    "            if word.pos.startswith('N'):\n",
    "                noun_sentiment_map[word.text] = sentiment\n",
    "    record_count[0] += 1\n",
    "    # end_time_cpu = time.time()\n",
    "    # logging.info(f'Processed {record_count[0]} out of {record_count[1]}.')\n",
    "    # print(f'Processed {record_count[0]} out of {record_count[1]}.')\n",
    "    # print(f'Time: {end_time_cpu - start_time_cpu}.')\n",
    "    clear_output(wait=True)  # Clears the output cell before displaying the next message\n",
    "    display(f'Processed {record_count[0]} out of {record_count[1]}.')\n",
    "    return noun_sentiment_map\n"
   ]
  },
  {
   "cell_type": "code",
   "execution_count": 29,
   "metadata": {},
   "outputs": [
    {
     "data": {
      "text/plain": [
       "(10,)"
      ]
     },
     "execution_count": 29,
     "metadata": {},
     "output_type": "execute_result"
    }
   ],
   "source": [
    "tip_df[tip_df['business_id'] == \"Rt4xYQBWC8i2xqLp9dP7XQ\"]['corrected_text'].shape"
   ]
  },
  {
   "cell_type": "code",
   "execution_count": 37,
   "metadata": {},
   "outputs": [
    {
     "data": {
      "text/plain": [
       "'Processed 3251 out of 3251.'"
      ]
     },
     "metadata": {},
     "output_type": "display_data"
    }
   ],
   "source": [
    "\n",
    "record_count = [0, len(tip_df)]\n",
    "tip_df['noun_sentiment'] = tip_df['corrected_text'].apply(lambda x: get_noun_sentiment(x, record_count))\n"
   ]
  },
  {
   "cell_type": "code",
   "execution_count": 38,
   "metadata": {},
   "outputs": [],
   "source": [
    "def write_file_to_disk(df, filename):\n",
    "    df.to_csv(filename, index=False,)"
   ]
  },
  {
   "cell_type": "code",
   "execution_count": 39,
   "metadata": {},
   "outputs": [],
   "source": [
    "write_file_to_disk(tip_df, f'tip_sentiment_extracted.csv')\n"
   ]
  },
  {
   "cell_type": "code",
   "execution_count": null,
   "metadata": {},
   "outputs": [],
   "source": []
  }
 ],
 "metadata": {
  "kernelspec": {
   "display_name": "base",
   "language": "python",
   "name": "python3"
  },
  "language_info": {
   "codemirror_mode": {
    "name": "ipython",
    "version": 3
   },
   "file_extension": ".py",
   "mimetype": "text/x-python",
   "name": "python",
   "nbconvert_exporter": "python",
   "pygments_lexer": "ipython3",
   "version": "3.9.16"
  },
  "orig_nbformat": 4
 },
 "nbformat": 4,
 "nbformat_minor": 2
}
