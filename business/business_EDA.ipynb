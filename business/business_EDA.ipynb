{
 "cells": [
  {
   "cell_type": "code",
   "execution_count": 2,
   "metadata": {},
   "outputs": [],
   "source": [
    "import pandas as pd\n",
    "import numpy as np\n",
    "import matplotlib.pyplot as plt\n",
    "import seaborn as sns"
   ]
  },
  {
   "cell_type": "code",
   "execution_count": 3,
   "metadata": {},
   "outputs": [],
   "source": [
    "business_df = pd.read_csv('imp_business_cleaned_data.csv')"
   ]
  },
  {
   "cell_type": "code",
   "execution_count": 5,
   "metadata": {},
   "outputs": [
    {
     "name": "stdout",
     "output_type": "stream",
     "text": [
      "<class 'pandas.core.frame.DataFrame'>\n",
      "RangeIndex: 101 entries, 0 to 100\n",
      "Data columns (total 31 columns):\n",
      " #   Column                      Non-Null Count  Dtype  \n",
      "---  ------                      --------------  -----  \n",
      " 0   business_id                 101 non-null    object \n",
      " 1   name                        101 non-null    object \n",
      " 2   city                        101 non-null    object \n",
      " 3   state                       101 non-null    object \n",
      " 4   postal_code                 101 non-null    float64\n",
      " 5   stars                       101 non-null    float64\n",
      " 6   review_count                101 non-null    int64  \n",
      " 7   HasTV                       101 non-null    bool   \n",
      " 8   OutdoorSeating              101 non-null    object \n",
      " 9   RestaurantsTakeOut          101 non-null    object \n",
      " 10  RestaurantsDelivery         101 non-null    object \n",
      " 11  RestaurantsGoodForGroups    101 non-null    bool   \n",
      " 12  Monday                      101 non-null    object \n",
      " 13  Tuesday                     101 non-null    object \n",
      " 14  Wednesday                   101 non-null    object \n",
      " 15  Thursday                    101 non-null    object \n",
      " 16  Friday                      101 non-null    object \n",
      " 17  Saturday                    101 non-null    object \n",
      " 18  Sunday                      101 non-null    object \n",
      " 19  RestaurantsPriceRange2      101 non-null    float64\n",
      " 20  GoodForKids                 101 non-null    bool   \n",
      " 21  BikeParking                 101 non-null    object \n",
      " 22  Caters                      101 non-null    bool   \n",
      " 23  BusinessAcceptsCreditCards  101 non-null    bool   \n",
      " 24  WheelchairAccessible        101 non-null    bool   \n",
      " 25  RestaurantsReservations     101 non-null    object \n",
      " 26  Alcohol2                    101 non-null    object \n",
      " 27  BusinessParking2            101 non-null    object \n",
      " 28  NoiseLevel2                 101 non-null    object \n",
      " 29  Ambience2                   101 non-null    object \n",
      " 30  WiFi2                       101 non-null    object \n",
      "dtypes: bool(6), float64(3), int64(1), object(21)\n",
      "memory usage: 20.4+ KB\n"
     ]
    }
   ],
   "source": [
    "business_df.info()"
   ]
  },
  {
   "cell_type": "code",
   "execution_count": 8,
   "metadata": {},
   "outputs": [
    {
     "data": {
      "text/plain": [
       "PA    53\n",
       "FL    48\n",
       "Name: state, dtype: int64"
      ]
     },
     "execution_count": 8,
     "metadata": {},
     "output_type": "execute_result"
    }
   ],
   "source": [
    "business_df['state'].value_counts()"
   ]
  },
  {
   "cell_type": "markdown",
   "metadata": {},
   "source": [
    "Filtered businesses are situated in states `Pennsylvania` and `Florida` ."
   ]
  },
  {
   "cell_type": "markdown",
   "metadata": {},
   "source": [
    "# Ideas\n",
    "1. Draw the restaurants on a USA map using state, city, and pincode information.\n",
    "   1. Map should be magnifiable.\n",
    "   2. Add a filter for filtering restaurants by most popular attributes.\n",
    "   3. Hover on a restaurant, show key metrics at a glance. \n",
    "      1. Average rating.\n",
    "      2. Age of restaurant.\n",
    "      3. Best/Worst attribute.\n",
    "   4. On Click, show full restaurant average rating timeline.\n",
    "2. More ..."
   ]
  },
  {
   "cell_type": "markdown",
   "metadata": {},
   "source": [
    "> - There are total 44 cities. 101 restaurants.\n",
    "> - Most number of restaurants are from \n",
    ">   - `Philadelphia: 27` \n",
    ">   - `Tampa: 19`\n",
    ">   - `Pinellas Park: 4` \n",
    ">   - `Other cities<=2 restaurants.`"
   ]
  },
  {
   "cell_type": "code",
   "execution_count": 20,
   "metadata": {},
   "outputs": [
    {
     "data": {
      "text/plain": [
       "Philadelphia          26.732673\n",
       "Tampa                 18.811881\n",
       "Pinellas Park          3.960396\n",
       "Bensalem               1.980198\n",
       "Clearwater             1.980198\n",
       "St. Pete Beach         1.980198\n",
       "Conshohocken           1.980198\n",
       "St Petersburg          1.980198\n",
       "New Hope               1.980198\n",
       "Saint Petersburg       1.980198\n",
       "Palm Harbor            1.980198\n",
       "Largo                  1.980198\n",
       "Bala Cynwyd            1.980198\n",
       "Bryn Mawr              0.990099\n",
       "Boothwyn               0.990099\n",
       "Treasure Island        0.990099\n",
       "Trinity                0.990099\n",
       "Pottstown              0.990099\n",
       "Port Richey            0.990099\n",
       "Ruskin                 0.990099\n",
       "Ambler                 0.990099\n",
       "Glenside               0.990099\n",
       "Spring House           0.990099\n",
       "Apollo Beach           0.990099\n",
       "Dunedin                0.990099\n",
       "Folsom                 0.990099\n",
       "Horsham                0.990099\n",
       "Indian Rocks Beach     0.990099\n",
       "Wayne                  0.990099\n",
       "Springfield            0.990099\n",
       "Pineville              0.990099\n",
       "Wesley Chapel          0.990099\n",
       "Churchville            0.990099\n",
       "Clearwater Beach       0.990099\n",
       "Madeira Beach          0.990099\n",
       "Plymouth Meeting       0.990099\n",
       "Essington              0.990099\n",
       "Langhorne              0.990099\n",
       "Brandon                0.990099\n",
       "King of Prussia        0.990099\n",
       "Temple Terrace         0.990099\n",
       "Warrington             0.990099\n",
       "Exton                  0.990099\n",
       "Riverview              0.990099\n",
       "Name: city, dtype: float64"
      ]
     },
     "execution_count": 20,
     "metadata": {},
     "output_type": "execute_result"
    }
   ],
   "source": [
    "business_df['city'].value_counts(normalize=True)*100"
   ]
  },
  {
   "cell_type": "code",
   "execution_count": null,
   "metadata": {},
   "outputs": [],
   "source": []
  }
 ],
 "metadata": {
  "kernelspec": {
   "display_name": "base",
   "language": "python",
   "name": "python3"
  },
  "language_info": {
   "codemirror_mode": {
    "name": "ipython",
    "version": 3
   },
   "file_extension": ".py",
   "mimetype": "text/x-python",
   "name": "python",
   "nbconvert_exporter": "python",
   "pygments_lexer": "ipython3",
   "version": "3.9.16"
  },
  "orig_nbformat": 4
 },
 "nbformat": 4,
 "nbformat_minor": 2
}
