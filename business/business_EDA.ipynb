{
 "cells": [
  {
   "cell_type": "code",
   "execution_count": 1,
   "metadata": {},
   "outputs": [],
   "source": [
    "import pandas as pd\n",
    "import numpy as np\n",
    "import matplotlib.pyplot as plt\n",
    "import seaborn as sns\n",
    "import scipy.stats as stats "
   ]
  },
  {
   "cell_type": "code",
   "execution_count": 2,
   "metadata": {},
   "outputs": [],
   "source": [
    "business_df = pd.read_csv('imp_business_cleaned_data.csv')"
   ]
  },
  {
   "cell_type": "code",
   "execution_count": 3,
   "metadata": {},
   "outputs": [],
   "source": [
    "business_df['postal_code'] = business_df['postal_code'].astype('object')"
   ]
  },
  {
   "cell_type": "code",
   "execution_count": 4,
   "metadata": {},
   "outputs": [
    {
     "name": "stdout",
     "output_type": "stream",
     "text": [
      "<class 'pandas.core.frame.DataFrame'>\n",
      "RangeIndex: 101 entries, 0 to 100\n",
      "Data columns (total 31 columns):\n",
      " #   Column                      Non-Null Count  Dtype  \n",
      "---  ------                      --------------  -----  \n",
      " 0   business_id                 101 non-null    object \n",
      " 1   name                        101 non-null    object \n",
      " 2   city                        101 non-null    object \n",
      " 3   state                       101 non-null    object \n",
      " 4   postal_code                 101 non-null    object \n",
      " 5   stars                       101 non-null    float64\n",
      " 6   review_count                101 non-null    int64  \n",
      " 7   HasTV                       101 non-null    bool   \n",
      " 8   OutdoorSeating              101 non-null    bool   \n",
      " 9   RestaurantsTakeOut          101 non-null    bool   \n",
      " 10  RestaurantsDelivery         101 non-null    bool   \n",
      " 11  RestaurantsGoodForGroups    101 non-null    bool   \n",
      " 12  Monday                      101 non-null    object \n",
      " 13  Tuesday                     101 non-null    object \n",
      " 14  Wednesday                   101 non-null    object \n",
      " 15  Thursday                    101 non-null    object \n",
      " 16  Friday                      101 non-null    object \n",
      " 17  Saturday                    101 non-null    object \n",
      " 18  Sunday                      101 non-null    object \n",
      " 19  RestaurantsPriceRange2      101 non-null    float64\n",
      " 20  GoodForKids                 101 non-null    bool   \n",
      " 21  BikeParking                 101 non-null    bool   \n",
      " 22  Caters                      101 non-null    bool   \n",
      " 23  BusinessAcceptsCreditCards  101 non-null    bool   \n",
      " 24  WheelchairAccessible        101 non-null    bool   \n",
      " 25  RestaurantsReservations     101 non-null    bool   \n",
      " 26  Alcohol2                    101 non-null    object \n",
      " 27  BusinessParking2            101 non-null    object \n",
      " 28  NoiseLevel2                 101 non-null    object \n",
      " 29  Ambience2                   101 non-null    object \n",
      " 30  FreeWifi                    101 non-null    bool   \n",
      "dtypes: bool(12), float64(2), int64(1), object(16)\n",
      "memory usage: 16.3+ KB\n"
     ]
    }
   ],
   "source": [
    "business_df.info()"
   ]
  },
  {
   "cell_type": "markdown",
   "metadata": {},
   "source": [
    "Filtered businesses are situated in states `Pennsylvania` and `Florida` ."
   ]
  },
  {
   "cell_type": "markdown",
   "metadata": {},
   "source": [
    "# Ideas\n",
    "1. Draw the restaurants on a USA map using state, city, and pincode information.\n",
    "   1. Map should be magnifiable.\n",
    "   2. Add a filter for filtering restaurants by most popular attributes.\n",
    "   3. Hover on a restaurant, show key metrics at a glance. \n",
    "      1. Average rating.\n",
    "      2. Age of restaurant.\n",
    "      3. Best/Worst attribute.\n",
    "   4. On Click, show full restaurant average rating timeline.\n",
    "2. More ..."
   ]
  },
  {
   "cell_type": "markdown",
   "metadata": {},
   "source": [
    "> - There are total 44 cities. 101 restaurants.\n",
    "> - Most number of restaurants are from \n",
    ">   - `Philadelphia: 27` \n",
    ">   - `Tampa: 19`\n",
    ">   - `Pinellas Park: 4` \n",
    ">   - `Other cities<=2 restaurants.`"
   ]
  },
  {
   "cell_type": "code",
   "execution_count": 5,
   "metadata": {},
   "outputs": [
    {
     "data": {
      "text/plain": [
       "Philadelphia          26.732673\n",
       "Tampa                 18.811881\n",
       "Pinellas Park          3.960396\n",
       "Bensalem               1.980198\n",
       "Clearwater             1.980198\n",
       "St. Pete Beach         1.980198\n",
       "Conshohocken           1.980198\n",
       "St Petersburg          1.980198\n",
       "New Hope               1.980198\n",
       "Saint Petersburg       1.980198\n",
       "Palm Harbor            1.980198\n",
       "Largo                  1.980198\n",
       "Bala Cynwyd            1.980198\n",
       "Bryn Mawr              0.990099\n",
       "Boothwyn               0.990099\n",
       "Treasure Island        0.990099\n",
       "Trinity                0.990099\n",
       "Pottstown              0.990099\n",
       "Port Richey            0.990099\n",
       "Ruskin                 0.990099\n",
       "Ambler                 0.990099\n",
       "Glenside               0.990099\n",
       "Spring House           0.990099\n",
       "Apollo Beach           0.990099\n",
       "Dunedin                0.990099\n",
       "Folsom                 0.990099\n",
       "Horsham                0.990099\n",
       "Indian Rocks Beach     0.990099\n",
       "Wayne                  0.990099\n",
       "Springfield            0.990099\n",
       "Pineville              0.990099\n",
       "Wesley Chapel          0.990099\n",
       "Churchville            0.990099\n",
       "Clearwater Beach       0.990099\n",
       "Madeira Beach          0.990099\n",
       "Plymouth Meeting       0.990099\n",
       "Essington              0.990099\n",
       "Langhorne              0.990099\n",
       "Brandon                0.990099\n",
       "King of Prussia        0.990099\n",
       "Temple Terrace         0.990099\n",
       "Warrington             0.990099\n",
       "Exton                  0.990099\n",
       "Riverview              0.990099\n",
       "Name: city, dtype: float64"
      ]
     },
     "execution_count": 5,
     "metadata": {},
     "output_type": "execute_result"
    }
   ],
   "source": [
    "business_df['city'].value_counts(normalize=True)*100"
   ]
  },
  {
   "cell_type": "markdown",
   "metadata": {},
   "source": [
    "Distribution of `review count`"
   ]
  },
  {
   "cell_type": "code",
   "execution_count": 6,
   "metadata": {},
   "outputs": [
    {
     "data": {
      "image/png": "[encoded data removed]",
      "text/plain": [
       "<Figure size 640x480 with 1 Axes>"
      ]
     },
     "metadata": {},
     "output_type": "display_data"
    }
   ],
   "source": [
    "sns.histplot(business_df['review_count'])\n",
    "plt.show()"
   ]
  },
  {
   "cell_type": "markdown",
   "metadata": {},
   "source": [
    "As expected, the review count distribution is skewed with a right tail. "
   ]
  },
  {
   "cell_type": "markdown",
   "metadata": {},
   "source": [
    "Relationship between `Review Count` and `Star rating`\n",
    "> Does a higher rated restaurant correlate with more reviews?"
   ]
  },
  {
   "cell_type": "code",
   "execution_count": 7,
   "metadata": {},
   "outputs": [
    {
     "name": "stdout",
     "output_type": "stream",
     "text": [
      "Correlation: 0.017\n"
     ]
    }
   ],
   "source": [
    "# correlation between 2 columns Pearson's value\n",
    "correlation = np.round(business_df['review_count'].corr(business_df['stars']), 3)\n",
    "print(f\"Correlation: {correlation}\")"
   ]
  },
  {
   "cell_type": "markdown",
   "metadata": {},
   "source": [
    "> The `pearson score = 0.017` doesn't show any meaningful positive correlation between **review count** and **stars rating**."
   ]
  },
  {
   "cell_type": "code",
   "execution_count": 8,
   "metadata": {},
   "outputs": [
    {
     "name": "stdout",
     "output_type": "stream",
     "text": [
      "Spearman's Rank Correlation: 0.172\n",
      "The correlation is statistically significant\n"
     ]
    }
   ],
   "source": [
    "spearman_corr,  p_value = stats.spearmanr(business_df['stars'], business_df['review_count'])\n",
    "print(f\"Spearman's Rank Correlation: {np.round(spearman_corr, 3)}\")\n",
    "place_holder = 'insignificant'\n",
    "alpha = 0.1\n",
    "if p_value <= alpha:\n",
    "  place_holder = 'significant'\n",
    "\n",
    "correlation_significance = f'The correlation is statistically {place_holder}'\n",
    "print(correlation_significance)\n"
   ]
  },
  {
   "cell_type": "markdown",
   "metadata": {},
   "source": [
    "- Spearman's rank Correlation score indicates that score of 0.17 is statistically significant at a significance level of 0.1. \n",
    "> - In simple terms, increase in number of reviews of a restaurant, correlate to higher star rating.\n",
    "> - Increase in number of reviews, means that there are more people visiting the restaurant.\n",
    "> - Which means that the business is doing something right that is drawing more people to it. \n",
    "> - That means that, *increasing the review count is a good metric to aim at.*"
   ]
  },
  {
   "cell_type": "markdown",
   "metadata": {},
   "source": [
    "Boolean type columns are also of categorical nature."
   ]
  },
  {
   "cell_type": "code",
   "execution_count": 9,
   "metadata": {},
   "outputs": [],
   "source": [
    "cat_col = set()\n",
    "for col in business_df.columns:\n",
    "  if business_df[col].dtype == 'object':\n",
    "    cat_col.add(col)"
   ]
  },
  {
   "cell_type": "code",
   "execution_count": 10,
   "metadata": {},
   "outputs": [],
   "source": [
    "bool_col = set()\n",
    "for col in business_df.columns:\n",
    "  if business_df[col].dtype == 'bool':\n",
    "    bool_col.add(col)"
   ]
  },
  {
   "cell_type": "markdown",
   "metadata": {},
   "source": [
    "Target variable: `Stars`\n",
    "\n",
    "> Which of the Dichotomous/Binary Features have a **statistically significant correlation** to `Stars` rating of a restaurant.\n",
    "\n",
    "Point-Biserial Correlation is a statistical test used when testing the strength and direction of correlation between a Binary Variable and a Target Variable (Star rating).\n",
    "> 1. The Target variable should be either numerical or Ordinal.\n",
    "> 1. It is a variation the Pearson Score. \n",
    "> 1. The results are in the range of -1 to 1. \n",
    "> 1. -1 is perfect Negative Correlation and 1 is perfect Positive Correlation, 0 is no correlation.\n"
   ]
  },
  {
   "cell_type": "code",
   "execution_count": 11,
   "metadata": {},
   "outputs": [
    {
     "name": "stdout",
     "output_type": "stream",
     "text": [
      "Point-Biserial Correlation for RestaurantsGoodForGroups: -0.234\n",
      "P-value: 0.018446875513614142\n",
      "The correlation is statistically significant\n",
      "\n",
      "Point-Biserial Correlation for Caters: 0.192\n",
      "P-value: 0.05463287243914246\n",
      "The correlation is statistically significant\n",
      "\n",
      "Point-Biserial Correlation for HasTV: -0.419\n",
      "P-value: 1.2881016957872429e-05\n",
      "The correlation is statistically significant\n",
      "\n"
     ]
    }
   ],
   "source": [
    "from scipy import stats\n",
    "\n",
    "for col in bool_col:\n",
    "  point_biserial_corr, p_value = stats.pointbiserialr(business_df[col], business_df['stars'])\n",
    "  if p_value < 0.1:\n",
    "    print(f\"Point-Biserial Correlation for {col}: {np.round(point_biserial_corr, 3)}\")\n",
    "    print(f\"P-value: {p_value}\")\n",
    "    print('The correlation is statistically significant')\n",
    "    print('')\n",
    "  # else: \n",
    "    # print('The correlation is statistically insignificant')"
   ]
  },
  {
   "cell_type": "markdown",
   "metadata": {},
   "source": [
    "Point Biserial test reveals 3 binary features that are significantly correlated with `star rating`.\n",
    "1. RestaurantGoodForGroups - Negative Correlation\n",
    "2. Caters - Positive Correlation\n",
    "3. HasTV - Negative Correlation\n",
    "\n",
    "Other features are **not statistically significantly correlated** to `star rating`.\n",
    "\n",
    "> These business attributes can be tailored to improve the overall customer service and consequently the restaurant rating. "
   ]
  },
  {
   "cell_type": "code",
   "execution_count": 13,
   "metadata": {},
   "outputs": [],
   "source": [
    "business_df[['Monday_opening_hour', 'Monday_closing_hour']] = business_df['Monday'].str.split(\"-\", expand=True)\n",
    "business_df[['Tuesday_opening_hour', 'Tuesday_closing_hour']] = business_df['Tuesday'].str.split(\"-\", expand=True)\n",
    "business_df[['Wednesday_opening_hour', 'Wednesday_closing_hour']] = business_df['Wednesday'].str.split(\"-\", expand=True)\n",
    "business_df[['Thursday_opening_hour', 'Thursday_closing_hour']] = business_df['Thursday'].str.split(\"-\", expand=True)\n",
    "business_df[['Friday_opening_hour', 'Friday_closing_hour']] = business_df['Friday'].str.split(\"-\", expand=True)\n",
    "business_df[['Saturday_opening_hour', 'Saturday_closing_hour']] = business_df['Saturday'].str.split(\"-\", expand=True)\n",
    "business_df[['Sunday_opening_hour', 'Sunday_closing_hour']] = business_df['Sunday'].str.split(\"-\", expand=True)"
   ]
  },
  {
   "cell_type": "code",
   "execution_count": 15,
   "metadata": {},
   "outputs": [],
   "source": [
    "# Step 2: Convert to 24-hour time format\n",
    "def convert_to_24_hour(time_str):\n",
    "    hour, minute = map(int, time_str.split(':'))\n",
    "    return f\"{hour:02d}:{minute:02d}\""
   ]
  },
  {
   "cell_type": "code",
   "execution_count": 17,
   "metadata": {},
   "outputs": [],
   "source": [
    "# All opening hours of the week\n",
    "business_df['Monday_opening_hour'] = business_df['Monday_opening_hour'].str.split(':').str.get(0)\n",
    "business_df['Monday_opening_hour'] = pd.to_numeric(business_df['Monday_opening_hour'])\n",
    "\n",
    "business_df['Tuesday_opening_hour'] = business_df['Tuesday_opening_hour'].str.split(':').str.get(0)\n",
    "business_df['Tuesday_opening_hour'] = pd.to_numeric(business_df['Tuesday_opening_hour'])\n",
    "\n",
    "business_df['Wednesday_opening_hour'] = business_df['Wednesday_opening_hour'].str.split(':').str.get(0)\n",
    "business_df['Wednesday_opening_hour'] = pd.to_numeric(business_df['Wednesday_opening_hour'])\n",
    "\n",
    "business_df['Thursday_opening_hour'] = business_df['Thursday_opening_hour'].str.split(':').str.get(0)\n",
    "business_df['Thursday_opening_hour'] = pd.to_numeric(business_df['Thursday_opening_hour'])\n",
    "\n",
    "business_df['Friday_opening_hour'] = business_df['Friday_opening_hour'].str.split(':').str.get(0)\n",
    "business_df['Friday_opening_hour'] = pd.to_numeric(business_df['Friday_opening_hour'])\n",
    "\n",
    "business_df['Saturday_opening_hour'] = business_df['Saturday_opening_hour'].str.split(':').str.get(0)\n",
    "business_df['Saturday_opening_hour'] = pd.to_numeric(business_df['Saturday_opening_hour'])\n",
    "\n",
    "business_df['Sunday_opening_hour'] = business_df['Sunday_opening_hour'].str.split(':').str.get(0)\n",
    "business_df['Sunday_opening_hour'] = pd.to_numeric(business_df['Sunday_opening_hour'])\n"
   ]
  },
  {
   "cell_type": "code",
   "execution_count": 18,
   "metadata": {},
   "outputs": [],
   "source": [
    "# All closing hours in a week\n",
    "business_df['Monday_closing_hour'] = business_df['Monday_closing_hour'].str.split(':').str.get(0)\n",
    "business_df['Monday_closing_hour'] = pd.to_numeric(business_df['Monday_closing_hour'])\n",
    "\n",
    "business_df['Tuesday_closing_hour'] = business_df['Tuesday_closing_hour'].str.split(':').str.get(0)\n",
    "business_df['Tuesday_closing_hour'] = pd.to_numeric(business_df['Tuesday_closing_hour'])\n",
    "\n",
    "business_df['Wednesday_closing_hour'] = business_df['Wednesday_closing_hour'].str.split(':').str.get(0)\n",
    "business_df['Wednesday_closing_hour'] = pd.to_numeric(business_df['Wednesday_closing_hour'])\n",
    "\n",
    "business_df['Thursday_closing_hour'] = business_df['Thursday_closing_hour'].str.split(':').str.get(0)\n",
    "business_df['Thursday_closing_hour'] = pd.to_numeric(business_df['Thursday_closing_hour'])\n",
    "\n",
    "business_df['Friday_closing_hour'] = business_df['Friday_closing_hour'].str.split(':').str.get(0)\n",
    "business_df['Friday_closing_hour'] = pd.to_numeric(business_df['Friday_closing_hour'])\n",
    "\n",
    "business_df['Saturday_closing_hour'] = business_df['Saturday_closing_hour'].str.split(':').str.get(0)\n",
    "business_df['Saturday_closing_hour'] = pd.to_numeric(business_df['Saturday_closing_hour'])\n",
    "\n",
    "business_df['Sunday_closing_hour'] = business_df['Sunday_closing_hour'].str.split(':').str.get(0)\n",
    "business_df['Sunday_closing_hour'] = pd.to_numeric(business_df['Sunday_closing_hour'])\n",
    "\n",
    "\n"
   ]
  },
  {
   "cell_type": "code",
   "execution_count": 20,
   "metadata": {},
   "outputs": [
    {
     "name": "stdout",
     "output_type": "stream",
     "text": [
      "<class 'pandas.core.frame.DataFrame'>\n",
      "RangeIndex: 101 entries, 0 to 100\n",
      "Data columns (total 45 columns):\n",
      " #   Column                      Non-Null Count  Dtype  \n",
      "---  ------                      --------------  -----  \n",
      " 0   business_id                 101 non-null    object \n",
      " 1   name                        101 non-null    object \n",
      " 2   city                        101 non-null    object \n",
      " 3   state                       101 non-null    object \n",
      " 4   postal_code                 101 non-null    object \n",
      " 5   stars                       101 non-null    float64\n",
      " 6   review_count                101 non-null    int64  \n",
      " 7   HasTV                       101 non-null    bool   \n",
      " 8   OutdoorSeating              101 non-null    bool   \n",
      " 9   RestaurantsTakeOut          101 non-null    bool   \n",
      " 10  RestaurantsDelivery         101 non-null    bool   \n",
      " 11  RestaurantsGoodForGroups    101 non-null    bool   \n",
      " 12  Monday                      101 non-null    object \n",
      " 13  Tuesday                     101 non-null    object \n",
      " 14  Wednesday                   101 non-null    object \n",
      " 15  Thursday                    101 non-null    object \n",
      " 16  Friday                      101 non-null    object \n",
      " 17  Saturday                    101 non-null    object \n",
      " 18  Sunday                      101 non-null    object \n",
      " 19  RestaurantsPriceRange2      101 non-null    float64\n",
      " 20  GoodForKids                 101 non-null    bool   \n",
      " 21  BikeParking                 101 non-null    bool   \n",
      " 22  Caters                      101 non-null    bool   \n",
      " 23  BusinessAcceptsCreditCards  101 non-null    bool   \n",
      " 24  WheelchairAccessible        101 non-null    bool   \n",
      " 25  RestaurantsReservations     101 non-null    bool   \n",
      " 26  Alcohol2                    101 non-null    object \n",
      " 27  BusinessParking2            101 non-null    object \n",
      " 28  NoiseLevel2                 101 non-null    object \n",
      " 29  Ambience2                   101 non-null    object \n",
      " 30  FreeWifi                    101 non-null    bool   \n",
      " 31  Monday_opening_hour         101 non-null    int64  \n",
      " 32  Monday_closing_hour         101 non-null    int64  \n",
      " 33  Tuesday_opening_hour        101 non-null    int64  \n",
      " 34  Tuesday_closing_hour        101 non-null    int64  \n",
      " 35  Wednesday_opening_hour      101 non-null    int64  \n",
      " 36  Wednesday_closing_hour      101 non-null    int64  \n",
      " 37  Thursday_opening_hour       101 non-null    int64  \n",
      " 38  Thursday_closing_hour       101 non-null    int64  \n",
      " 39  Friday_opening_hour         101 non-null    int64  \n",
      " 40  Friday_closing_hour         101 non-null    int64  \n",
      " 41  Saturday_opening_hour       101 non-null    int64  \n",
      " 42  Saturday_closing_hour       101 non-null    int64  \n",
      " 43  Sunday_opening_hour         101 non-null    int64  \n",
      " 44  Sunday_closing_hour         101 non-null    int64  \n",
      "dtypes: bool(12), float64(2), int64(15), object(16)\n",
      "memory usage: 27.3+ KB\n"
     ]
    }
   ],
   "source": [
    "business_df.info()"
   ]
  }
 ],
 "metadata": {
  "kernelspec": {
   "display_name": "base",
   "language": "python",
   "name": "python3"
  },
  "language_info": {
   "codemirror_mode": {
    "name": "ipython",
    "version": 3
   },
   "file_extension": ".py",
   "mimetype": "text/x-python",
   "name": "python",
   "nbconvert_exporter": "python",
   "pygments_lexer": "ipython3",
   "version": "3.9.16"
  },
  "orig_nbformat": 4
 },
 "nbformat": 4,
 "nbformat_minor": 2
}
