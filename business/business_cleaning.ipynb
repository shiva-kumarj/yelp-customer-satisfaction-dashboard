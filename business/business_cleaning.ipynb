{
 "cells": [
  {
   "cell_type": "code",
   "execution_count": 1,
   "id": "9b1204b6",
   "metadata": {
    "ExecuteTime": {
     "end_time": "2023-06-22T08:42:22.416162Z",
     "start_time": "2023-06-22T08:42:21.950556Z"
    }
   },
   "outputs": [],
   "source": [
    "import pandas as pd"
   ]
  },
  {
   "cell_type": "code",
   "execution_count": 2,
   "id": "d444fc76",
   "metadata": {},
   "outputs": [],
   "source": [
    "business_df = pd.read_csv(\"business_filtered_data.csv\", low_memory=False)"
   ]
  },
  {
   "cell_type": "code",
   "execution_count": 3,
   "id": "3ffd3839",
   "metadata": {},
   "outputs": [
    {
     "name": "stdout",
     "output_type": "stream",
     "text": [
      "<class 'pandas.core.frame.DataFrame'>\n",
      "RangeIndex: 13989 entries, 0 to 13988\n",
      "Data columns (total 56 columns):\n",
      " #   Column                                 Non-Null Count  Dtype  \n",
      "---  ------                                 --------------  -----  \n",
      " 0   business_id                            13989 non-null  object \n",
      " 1   name                                   13989 non-null  object \n",
      " 2   city                                   13989 non-null  object \n",
      " 3   state                                  13989 non-null  object \n",
      " 4   postal_code                            13988 non-null  float64\n",
      " 5   stars                                  13989 non-null  float64\n",
      " 6   review_count                           13989 non-null  int64  \n",
      " 7   attributes.HasTV                       11076 non-null  object \n",
      " 8   attributes.OutdoorSeating              11276 non-null  object \n",
      " 9   attributes.RestaurantsTableService     5948 non-null   object \n",
      " 10  attributes.Ambience                    10944 non-null  object \n",
      " 11  attributes.RestaurantsTakeOut          13175 non-null  object \n",
      " 12  attributes.RestaurantsDelivery         13015 non-null  object \n",
      " 13  attributes.RestaurantsGoodForGroups    10343 non-null  object \n",
      " 14  attributes.BusinessParking             12043 non-null  object \n",
      " 15  attributes.RestaurantsAttire           9546 non-null   object \n",
      " 16  hours.Monday                           11061 non-null  object \n",
      " 17  hours.Tuesday                          11757 non-null  object \n",
      " 18  hours.Wednesday                        12369 non-null  object \n",
      " 19  hours.Thursday                         12568 non-null  object \n",
      " 20  hours.Friday                           12635 non-null  object \n",
      " 21  hours.Saturday                         12361 non-null  object \n",
      " 22  hours.Sunday                           11051 non-null  object \n",
      " 23  categories                             13989 non-null  object \n",
      " 24  attributes.RestaurantsPriceRange2      11327 non-null  object \n",
      " 25  attributes.GoodForKids                 10174 non-null  object \n",
      " 26  attributes.Alcohol                     10315 non-null  object \n",
      " 27  attributes.BikeParking                 10161 non-null  object \n",
      " 28  attributes.Caters                      9536 non-null   object \n",
      " 29  attributes.BusinessAcceptsCreditCards  12414 non-null  object \n",
      " 30  attributes.NoiseLevel                  8846 non-null   object \n",
      " 31  attributes.WheelchairAccessible        4179 non-null   object \n",
      " 32  attributes.GoodForMeal                 8482 non-null   object \n",
      " 33  attributes.RestaurantsReservations     11044 non-null  object \n",
      " 34  attributes.WiFi                        10314 non-null  object \n",
      " 35  attributes.BYOBCorkage                 430 non-null    object \n",
      " 36  attributes.Corkage                     1308 non-null   object \n",
      " 37  attributes.BYOB                        1595 non-null   object \n",
      " 38  hours                                  0 non-null      float64\n",
      " 39  attributes.BestNights                  1410 non-null   object \n",
      " 40  attributes.CoatCheck                   1225 non-null   object \n",
      " 41  attributes.Music                       1690 non-null   object \n",
      " 42  attributes.GoodForDancing              1001 non-null   object \n",
      " 43  attributes.DogsAllowed                 3597 non-null   object \n",
      " 44  attributes.HappyHour                   3809 non-null   object \n",
      " 45  attributes.AgesAllowed                 41 non-null     object \n",
      " 46  attributes.ByAppointmentOnly           1069 non-null   object \n",
      " 47  attributes.BusinessAcceptsBitcoin      2108 non-null   object \n",
      " 48  attributes.Smoking                     988 non-null    object \n",
      " 49  attributes.DriveThru                   1747 non-null   object \n",
      " 50  attributes                             0 non-null      float64\n",
      " 51  attributes.Open24Hours                 4 non-null      object \n",
      " 52  attributes.AcceptsInsurance            5 non-null      object \n",
      " 53  attributes.RestaurantsCounterService   5 non-null      object \n",
      " 54  attributes.DietaryRestrictions         4 non-null      object \n",
      " 55  attributes.HairSpecializesIn           1 non-null      object \n",
      "dtypes: float64(4), int64(1), object(51)\n",
      "memory usage: 6.0+ MB\n"
     ]
    }
   ],
   "source": [
    "business_df.info()"
   ]
  },
  {
   "cell_type": "code",
   "execution_count": 4,
   "id": "5cd0c752",
   "metadata": {},
   "outputs": [],
   "source": [
    "retain_columns = ['attributes.RestaurantsTakeOut', 'attributes.RestaurantsDelivery', 'attributes.BusinessAcceptsCreditCards',\n",
    "                  'attributes.Ambience', 'attributes.Alcohol', 'attributes.RestaurantsReservations',\n",
    "                  'attributes.Caters', 'attributes.GoodForKids', 'attributes.RestaurantsGoodForGroups',\n",
    "                  'attributes.NoiseLevel', 'attributes.OutdoorSeating', 'attributes.BikeParking',\n",
    "                  'attributes.RestaurantsPriceRange2', 'attributes.WiFi', 'attributes.WheelchairAccessible',\n",
    "                  'hours.Monday', 'hours.Tuesday', 'hours.Wednesday', 'hours.Thursday', 'hours.Friday', \n",
    "                  'hours.Saturday', 'hours.Sunday', 'attributes.BusinessParking', 'attributes.HasTV',\n",
    "                  'business_id', 'name', 'city', 'state', 'postal_code', 'stars', 'review_count']"
   ]
  },
  {
   "cell_type": "code",
   "execution_count": 5,
   "id": "235f5a0e",
   "metadata": {},
   "outputs": [],
   "source": [
    "drop_columns = ['attributes.RestaurantsAttire', 'attributes.CoatCheck', 'attributes.ByAppointmentOnly', \n",
    "                'attributes.DogsAllowed', 'attributes.GoodForMeal', 'attributes.DriveThru', 'attributes.HappyHour',\n",
    "                'attributes.BusinessAcceptsBitcoin', 'attributes.RestaurantsTableService', 'attributes.Music', \n",
    "                'attributes.BestNights', 'attributes.Smoking', 'attributes.GoodForDancing', 'attributes.Corkage', \n",
    "                'attributes.BYOB', 'attributes.AgesAllowed', 'attributes.BYOBCorkage', 'attributes.DietaryRestrictions',\n",
    "                'attributes.AcceptsInsurance', 'attributes.Open24Hours', 'attributes.RestaurantsCounterService', \n",
    "                'attributes.HairSpecializesIn', 'hours', 'attributes', 'categories']"
   ]
  },
  {
   "attachments": {},
   "cell_type": "markdown",
   "id": "71c080ad",
   "metadata": {},
   "source": [
    "# Dropping useless columns"
   ]
  },
  {
   "cell_type": "code",
   "execution_count": 6,
   "id": "0f6e1d24",
   "metadata": {},
   "outputs": [],
   "source": [
    "business_df = business_df.drop(drop_columns, axis=1)"
   ]
  },
  {
   "attachments": {},
   "cell_type": "markdown",
   "id": "6dbe7129",
   "metadata": {},
   "source": [
    "## Correcting column names"
   ]
  },
  {
   "cell_type": "code",
   "execution_count": 7,
   "id": "a7c66e5a",
   "metadata": {},
   "outputs": [],
   "source": [
    "column_names_renamed = []\n",
    "for val in business_df.columns:\n",
    "    temp = val.split('.')\n",
    "    column_names_renamed.append(temp[-1])"
   ]
  },
  {
   "cell_type": "code",
   "execution_count": 8,
   "id": "3cfc5df8",
   "metadata": {},
   "outputs": [
    {
     "name": "stdout",
     "output_type": "stream",
     "text": [
      "<class 'pandas.core.frame.DataFrame'>\n",
      "RangeIndex: 13989 entries, 0 to 13988\n",
      "Data columns (total 31 columns):\n",
      " #   Column                      Non-Null Count  Dtype  \n",
      "---  ------                      --------------  -----  \n",
      " 0   business_id                 13989 non-null  object \n",
      " 1   name                        13989 non-null  object \n",
      " 2   city                        13989 non-null  object \n",
      " 3   state                       13989 non-null  object \n",
      " 4   postal_code                 13988 non-null  float64\n",
      " 5   stars                       13989 non-null  float64\n",
      " 6   review_count                13989 non-null  int64  \n",
      " 7   HasTV                       11076 non-null  object \n",
      " 8   OutdoorSeating              11276 non-null  object \n",
      " 9   Ambience                    10944 non-null  object \n",
      " 10  RestaurantsTakeOut          13175 non-null  object \n",
      " 11  RestaurantsDelivery         13015 non-null  object \n",
      " 12  RestaurantsGoodForGroups    10343 non-null  object \n",
      " 13  BusinessParking             12043 non-null  object \n",
      " 14  Monday                      11061 non-null  object \n",
      " 15  Tuesday                     11757 non-null  object \n",
      " 16  Wednesday                   12369 non-null  object \n",
      " 17  Thursday                    12568 non-null  object \n",
      " 18  Friday                      12635 non-null  object \n",
      " 19  Saturday                    12361 non-null  object \n",
      " 20  Sunday                      11051 non-null  object \n",
      " 21  RestaurantsPriceRange2      11327 non-null  object \n",
      " 22  GoodForKids                 10174 non-null  object \n",
      " 23  Alcohol                     10315 non-null  object \n",
      " 24  BikeParking                 10161 non-null  object \n",
      " 25  Caters                      9536 non-null   object \n",
      " 26  BusinessAcceptsCreditCards  12414 non-null  object \n",
      " 27  NoiseLevel                  8846 non-null   object \n",
      " 28  WheelchairAccessible        4179 non-null   object \n",
      " 29  RestaurantsReservations     11044 non-null  object \n",
      " 30  WiFi                        10314 non-null  object \n",
      "dtypes: float64(2), int64(1), object(28)\n",
      "memory usage: 3.3+ MB\n"
     ]
    }
   ],
   "source": [
    "business_df.columns = column_names_renamed\n",
    "business_df.info()"
   ]
  },
  {
   "attachments": {},
   "cell_type": "markdown",
   "id": "e0565229",
   "metadata": {},
   "source": [
    "## Filter Restaurants by Review count"
   ]
  },
  {
   "cell_type": "code",
   "execution_count": 9,
   "id": "10ce2cd1",
   "metadata": {},
   "outputs": [],
   "source": [
    "useful_cols = ['name', 'city', 'state', 'postal_code', 'stars', 'review_count']"
   ]
  },
  {
   "cell_type": "code",
   "execution_count": 10,
   "id": "f8ae327c",
   "metadata": {},
   "outputs": [
    {
     "data": {
      "image/png": "[encoded data removed]",
      "text/plain": [
       "<Figure size 500x500 with 1 Axes>"
      ]
     },
     "metadata": {},
     "output_type": "display_data"
    },
    {
     "data": {
      "image/png": "[encoded data removed]",
      "text/plain": [
       "<Figure size 500x500 with 1 Axes>"
      ]
     },
     "metadata": {},
     "output_type": "display_data"
    }
   ],
   "source": [
    "import matplotlib.pyplot as plt\n",
    "import seaborn as sns\n",
    "import numpy as np\n",
    "\n",
    "sns.displot(business_df['review_count'], bins=100)\n",
    "sns.displot(business_df['stars'])\n",
    "plt.show()"
   ]
  },
  {
   "attachments": {},
   "cell_type": "markdown",
   "id": "173a73bb",
   "metadata": {},
   "source": [
    "Restaurants with less than 100 reviews"
   ]
  },
  {
   "cell_type": "code",
   "execution_count": 11,
   "id": "b9edc9f3",
   "metadata": {},
   "outputs": [
    {
     "data": {
      "text/plain": [
       "(13989, 31)"
      ]
     },
     "execution_count": 11,
     "metadata": {},
     "output_type": "execute_result"
    }
   ],
   "source": [
    "# Shape of the original data\n",
    "business_df.shape"
   ]
  },
  {
   "attachments": {},
   "cell_type": "markdown",
   "id": "cea66073",
   "metadata": {},
   "source": [
    "# TRY TO INVESTIGATE WHY RESTAURANTS HAVE REVIEWS LESS THAN 100.\n",
    "- Look at How many days the restaurants were operational\n",
    "- How many reviews per day did they get.\n",
    "- What were the average stars per day\n",
    "- What is the distribution of stars in this subsample\n"
   ]
  },
  {
   "cell_type": "code",
   "execution_count": 12,
   "id": "89187e3e",
   "metadata": {},
   "outputs": [
    {
     "data": {
      "text/plain": [
       "(10135, 31)"
      ]
     },
     "execution_count": 12,
     "metadata": {},
     "output_type": "execute_result"
    }
   ],
   "source": [
    "# Number of restaurants with less than 100 reviews.\n",
    "# These can be safely ignored. FOR NOW .\n",
    "business_df[business_df['review_count'] < 100].shape"
   ]
  },
  {
   "cell_type": "code",
   "execution_count": 13,
   "id": "95e82de3",
   "metadata": {},
   "outputs": [],
   "source": [
    "# Filtering out restaurants with less than 100 reviews\n",
    "business_df = business_df.loc[business_df['review_count'] > 100]"
   ]
  },
  {
   "cell_type": "code",
   "execution_count": 14,
   "id": "b24ea2dd",
   "metadata": {},
   "outputs": [
    {
     "data": {
      "text/plain": [
       "(3820, 31)"
      ]
     },
     "execution_count": 14,
     "metadata": {},
     "output_type": "execute_result"
    }
   ],
   "source": [
    "# Shape of data after filtering out low reviewed restaurants\n",
    "business_df.shape"
   ]
  },
  {
   "attachments": {},
   "cell_type": "markdown",
   "id": "4de5e065",
   "metadata": {},
   "source": [
    "Restaurants with more than 100 reviews"
   ]
  },
  {
   "cell_type": "code",
   "execution_count": 15,
   "id": "c61abf68",
   "metadata": {},
   "outputs": [
    {
     "name": "stderr",
     "output_type": "stream",
     "text": [
      "C:\\Users\\blahb\\AppData\\Local\\Temp\\ipykernel_26548\\4103427134.py:1: FutureWarning: The default value of numeric_only in DataFrameGroupBy.sum is deprecated. In a future version, numeric_only will default to False. Either specify numeric_only or select only columns which should be valid for the function.\n",
      "  business_df.groupby('stars').aggregate('sum')['review_count']\n"
     ]
    },
    {
     "data": {
      "text/plain": [
       "stars\n",
       "1.5       314\n",
       "2.0      5017\n",
       "2.5     25929\n",
       "3.0     72646\n",
       "3.5    235788\n",
       "4.0    481788\n",
       "4.5    259584\n",
       "5.0      7696\n",
       "Name: review_count, dtype: int64"
      ]
     },
     "execution_count": 15,
     "metadata": {},
     "output_type": "execute_result"
    }
   ],
   "source": [
    "business_df.groupby('stars').aggregate('sum')['review_count']"
   ]
  },
  {
   "attachments": {},
   "cell_type": "markdown",
   "id": "14900133",
   "metadata": {},
   "source": [
    "1. Sample equal number (13) restaurants from each star rating segment"
   ]
  },
  {
   "cell_type": "code",
   "execution_count": 16,
   "id": "5ca6075d",
   "metadata": {},
   "outputs": [],
   "source": [
    "# Lowest rated restaurants\n",
    "lowest_rated_restaurants = business_df.loc[business_df['stars'] == 1.5]\n",
    "\n",
    "# Sample restaurants from each star rating\n",
    "star_ratings = [2.0, 2.5, 3.0, 3.5, 4.0, 4.5, 5.0]\n",
    "sampled_dfs = {}\n",
    "filtered_df = business_df.loc[(business_df['stars'] > 1.5) & (business_df['stars'] <= 5.0)]\n",
    "\n",
    "for star in star_ratings:\n",
    "    sampled_df = filtered_df.loc[filtered_df['stars'] == star].sample(14, random_state=10)\n",
    "    sampled_dfs[f'star_{star}_df'] = sampled_df\n",
    "\n",
    "combined_df = pd.concat(sampled_dfs.values())\n",
    "business_df = pd.concat([combined_df, lowest_rated_restaurants])\n",
    "business_df = business_df.reset_index(drop=True)"
   ]
  },
  {
   "cell_type": "code",
   "execution_count": 17,
   "id": "d96d0678",
   "metadata": {},
   "outputs": [
    {
     "data": {
      "text/plain": [
       "27460"
      ]
     },
     "execution_count": 17,
     "metadata": {},
     "output_type": "execute_result"
    }
   ],
   "source": [
    "business_df['review_count'].sum()"
   ]
  },
  {
   "attachments": {},
   "cell_type": "markdown",
   "id": "e92120e5",
   "metadata": {},
   "source": [
    "# Extract the business ids and write to a csv file"
   ]
  },
  {
   "cell_type": "code",
   "execution_count": 18,
   "id": "a1106db4",
   "metadata": {},
   "outputs": [],
   "source": [
    "business_df['business_id'].to_csv('businesses_to_focus_on.csv', index=False)"
   ]
  },
  {
   "attachments": {},
   "cell_type": "markdown",
   "id": "70a9e96c",
   "metadata": {},
   "source": [
    "MONGODB\n",
    "1. Extract reviews of these business\n",
    "2. business_ids array on the left - review table on the right\n",
    "3. checkin table filtered for important businesses\n",
    "4. tips table filtered for important businesses."
   ]
  },
  {
   "attachments": {},
   "cell_type": "markdown",
   "id": "ccb73560",
   "metadata": {},
   "source": [
    "# Filling NA values\n",
    "1. Clean all the columns in the filtered data, one column at a time."
   ]
  },
  {
   "cell_type": "code",
   "execution_count": 19,
   "id": "125236fc",
   "metadata": {},
   "outputs": [
    {
     "data": {
      "text/plain": [
       "business_id                    0\n",
       "name                           0\n",
       "city                           0\n",
       "state                          0\n",
       "postal_code                    0\n",
       "stars                          0\n",
       "review_count                   0\n",
       "RestaurantsTakeOut             0\n",
       "RestaurantsPriceRange2         1\n",
       "BusinessParking                1\n",
       "RestaurantsDelivery            1\n",
       "Friday                         1\n",
       "BusinessAcceptsCreditCards     1\n",
       "Saturday                       2\n",
       "OutdoorSeating                 3\n",
       "Thursday                       3\n",
       "Wednesday                      4\n",
       "Alcohol                        5\n",
       "Caters                         5\n",
       "WiFi                           5\n",
       "RestaurantsReservations        5\n",
       "Ambience                       6\n",
       "HasTV                          6\n",
       "BikeParking                    7\n",
       "NoiseLevel                     8\n",
       "RestaurantsGoodForGroups       9\n",
       "Tuesday                        9\n",
       "Monday                        10\n",
       "GoodForKids                   11\n",
       "Sunday                        18\n",
       "WheelchairAccessible          58\n",
       "dtype: int64"
      ]
     },
     "execution_count": 19,
     "metadata": {},
     "output_type": "execute_result"
    }
   ],
   "source": [
    "business_df.isnull().sum().sort_values()"
   ]
  },
  {
   "attachments": {},
   "cell_type": "markdown",
   "id": "8b693a77",
   "metadata": {},
   "source": [
    "Filling all binary attributes with \"False\""
   ]
  },
  {
   "cell_type": "code",
   "execution_count": 20,
   "id": "6eebf305",
   "metadata": {},
   "outputs": [],
   "source": [
    "# Defining all binary attributes\n",
    "binary_attributes = ['GoodForKids', 'RestaurantsGoodForGroups', 'BikeParking', 'RestaurantsReservations',\n",
    "                    'HasTV', 'Caters', 'OutdoorSeating', 'WheelchairAccessible', 'RestaurantsDelivery',\n",
    "                    'RestaurantsTakeOut', 'BusinessAcceptsCreditCards']\n",
    "\n",
    "# Fill all missing values in binary columns with a False\n",
    "business_df.loc[:, binary_attributes] = business_df[binary_attributes].fillna(False)"
   ]
  },
  {
   "attachments": {},
   "cell_type": "markdown",
   "id": "1e36b7a7",
   "metadata": {},
   "source": [
    "Alcohol"
   ]
  },
  {
   "cell_type": "code",
   "execution_count": 21,
   "id": "f488a8a8",
   "metadata": {},
   "outputs": [],
   "source": [
    "# Fill missing value with suitable\n",
    "business_df['Alcohol'].fillna('\\'none\\'', inplace=True)"
   ]
  },
  {
   "cell_type": "code",
   "execution_count": 22,
   "id": "f44b0ef1",
   "metadata": {},
   "outputs": [],
   "source": [
    "cols_to_drop = ['Alcohol']\n",
    "\n",
    "# Function returns the plain string from the input\n",
    "def return_plain_string(malformed):\n",
    "    malformed = eval(malformed)\n",
    "    return malformed\n",
    "\n",
    "business_df['Alcohol2'] = business_df['Alcohol'].apply(lambda x: return_plain_string(x))\n"
   ]
  },
  {
   "attachments": {},
   "cell_type": "markdown",
   "id": "600df9c5",
   "metadata": {},
   "source": [
    "RestaurantsPriceRange2"
   ]
  },
  {
   "cell_type": "code",
   "execution_count": 23,
   "id": "6cea1e1c",
   "metadata": {},
   "outputs": [],
   "source": [
    "# What is the name of the restaurant missing this value\n",
    "business_df[business_df['RestaurantsPriceRange2'].isnull() == True][useful_cols]\n",
    "\n",
    "# Yelp website shows that this restaurant's price is at 2.0 in a range of 1.0 to 4.0\n",
    "business_df['RestaurantsPriceRange2'].fillna(2.0, inplace=True)"
   ]
  },
  {
   "attachments": {},
   "cell_type": "markdown",
   "id": "a66d089c",
   "metadata": {},
   "source": [
    "Monday"
   ]
  },
  {
   "cell_type": "code",
   "execution_count": 24,
   "id": "d1d19ee5",
   "metadata": {},
   "outputs": [],
   "source": [
    "days_of_week = ['Monday', 'Tuesday', 'Wednesday', 'Thursday', 'Friday', 'Saturday', 'Sunday']\n",
    "\n",
    "business_df.loc[:, days_of_week] = business_df[days_of_week].fillna('0:0-0:0')"
   ]
  },
  {
   "attachments": {},
   "cell_type": "markdown",
   "id": "63cdecb6",
   "metadata": {},
   "source": [
    "BusinessParking"
   ]
  },
  {
   "cell_type": "code",
   "execution_count": 25,
   "id": "e7d1c052",
   "metadata": {},
   "outputs": [],
   "source": [
    "# No Parking dict map\n",
    "noparking_string = \"{'garage': False, 'street': False, 'validated': False, 'lot': False, 'valet': False}\"\n",
    "\n",
    "# Filling the missing values with 'noparking'\n",
    "business_df['BusinessParking'].fillna(noparking_string, inplace=True)"
   ]
  },
  {
   "cell_type": "code",
   "execution_count": 26,
   "id": "9cc6d2ce",
   "metadata": {},
   "outputs": [],
   "source": [
    "# Manually fixing one entry that could not be fixed by fillna\n",
    "index = business_df[business_df['BusinessParking'] == 'None'].index[0]\n",
    "business_df.at[index, 'BusinessParking'] = noparking_string"
   ]
  },
  {
   "cell_type": "code",
   "execution_count": 27,
   "id": "0946e36f",
   "metadata": {},
   "outputs": [],
   "source": [
    "def parse_json_string(json_string, default='noparking'):\n",
    "    json_string = eval(json_string)\n",
    "    for k,v in json_string.items():\n",
    "        if v == True:\n",
    "            return k\n",
    "    return default\n",
    "\n",
    "# Fixing the values in the column\n",
    "business_df['BusinessParking2'] = business_df['BusinessParking'].apply(lambda x: parse_json_string(x, default='noparking'))\n",
    "\n",
    "# Will drop redundant columns later\n",
    "cols_to_drop.append('BusinessParking')"
   ]
  },
  {
   "attachments": {},
   "cell_type": "markdown",
   "id": "35f5baae",
   "metadata": {},
   "source": [
    "NoiseLevel"
   ]
  },
  {
   "cell_type": "code",
   "execution_count": 28,
   "id": "2ba06d3e",
   "metadata": {},
   "outputs": [],
   "source": [
    "business_df['NoiseLevel'].fillna('\\'quiet\\'', inplace=True)"
   ]
  },
  {
   "cell_type": "code",
   "execution_count": 29,
   "id": "6ccbd619",
   "metadata": {},
   "outputs": [],
   "source": [
    "# Fixing the values in the column\n",
    "business_df['NoiseLevel2'] = business_df['NoiseLevel'].apply(lambda x: return_plain_string(x))\n",
    "# Will drop redundant columns later\n",
    "cols_to_drop.append('NoiseLevel')"
   ]
  },
  {
   "attachments": {},
   "cell_type": "markdown",
   "id": "04f3c75f",
   "metadata": {},
   "source": [
    "Ambience                      "
   ]
  },
  {
   "cell_type": "code",
   "execution_count": 30,
   "id": "33f71de8",
   "metadata": {},
   "outputs": [],
   "source": [
    "# Define a default state for this column\n",
    "default_ambience_string = \"{'romantic': None, 'intimate': None, 'classy': None, 'hipster': None, 'divey': None, 'touristy': None, 'trendy': None, 'upscale': None, 'casual': None}\"\n",
    "# Imputing missing values\n",
    "business_df['Ambience'].fillna(default_ambience_string, inplace=True)"
   ]
  },
  {
   "cell_type": "code",
   "execution_count": 31,
   "id": "0f29cab5",
   "metadata": {},
   "outputs": [],
   "source": [
    "# Fixing the values in the column\n",
    "business_df['Ambience2'] = business_df['Ambience'].apply(lambda x: parse_json_string(x, default='absent'))\n",
    "# Will drop redundant columns later\n",
    "cols_to_drop.append('Ambience')\n"
   ]
  },
  {
   "attachments": {},
   "cell_type": "markdown",
   "id": "bb06cede",
   "metadata": {},
   "source": [
    "WiFi"
   ]
  },
  {
   "cell_type": "code",
   "execution_count": 32,
   "id": "6d97ad9d",
   "metadata": {},
   "outputs": [],
   "source": [
    "# Imputing missing values\n",
    "business_df['WiFi'].fillna('\\'no\\'', inplace=True)"
   ]
  },
  {
   "cell_type": "code",
   "execution_count": 33,
   "id": "4b8be308",
   "metadata": {},
   "outputs": [],
   "source": [
    "# Fixing the values in the column\n",
    "business_df['WiFi2'] = business_df['WiFi'].apply(lambda x: return_plain_string(x))\n",
    "# Will drop redundant columns later\n",
    "cols_to_drop.append('WiFi')"
   ]
  },
  {
   "cell_type": "markdown",
   "id": "d7eb404b",
   "metadata": {},
   "source": [
    "Turn 'WiFi2' to 'FreeWifi', then change the values into True and False."
   ]
  },
  {
   "cell_type": "code",
   "execution_count": 34,
   "id": "3bb17fae",
   "metadata": {},
   "outputs": [],
   "source": [
    "business_df['WiFi2'] = business_df['WiFi2'].replace('no', False)\n",
    "business_df['WiFi2'] = business_df['WiFi2'].replace('free', True)\n",
    "\n",
    "# new column renaming map\n",
    "column_name_map = {\n",
    "  'WiFi2': 'FreeWifi'\n",
    "}\n",
    "\n",
    "business_df.rename(columns=column_name_map, inplace=True)\n"
   ]
  },
  {
   "cell_type": "markdown",
   "id": "628d15aa",
   "metadata": {},
   "source": [
    "Filter out columns that only have True / false values and change their type to bool."
   ]
  },
  {
   "cell_type": "code",
   "execution_count": 35,
   "id": "c12e4791",
   "metadata": {},
   "outputs": [
    {
     "name": "stdout",
     "output_type": "stream",
     "text": [
      "OutdoorSeating - ['False' 'True' False 'None']\n",
      "RestaurantsTakeOut - ['True' 'False' 'None']\n",
      "RestaurantsDelivery - ['True' 'False' 'None' False]\n",
      "BikeParking - ['False' 'True' False 'None']\n",
      "RestaurantsReservations - ['True' 'False' False 'None']\n",
      "Alcohol2 - ['full_bar' 'none' 'beer_and_wine']\n",
      "BusinessParking2 - ['lot' 'noparking' 'street' 'garage' 'valet']\n",
      "Ambience2 - ['casual' 'touristy' 'trendy' 'divey' 'absent' 'classy' 'hipster'\n",
      " 'upscale']\n"
     ]
    }
   ],
   "source": [
    "for col in business_df.select_dtypes(include='object').columns.tolist():\n",
    "  if col in ['OutdoorSeating', 'RestaurantsTakeOut', 'RestaurantsDelivery', \\\n",
    "    'BikeParking', 'RestaurantsReservations', 'Alcohol2', 'BusinessParking2', 'WiFi2', \n",
    "    'Ambience2']:\n",
    "    print(f\"{col} - {business_df[col].unique()}\")"
   ]
  },
  {
   "cell_type": "code",
   "execution_count": 36,
   "id": "832b557f",
   "metadata": {},
   "outputs": [],
   "source": [
    "binary_cols = ['OutdoorSeating', 'RestaurantsTakeOut', 'RestaurantsDelivery', 'BikeParking', 'RestaurantsReservations']\n",
    "for col in binary_cols:\n",
    "  business_df[col] = business_df[col].replace({'None': False, 'True': True, 'False': False})\n",
    "  # business_df[col] = "
   ]
  },
  {
   "attachments": {},
   "cell_type": "markdown",
   "id": "3ac44a1a",
   "metadata": {},
   "source": [
    "Dropping redundant columns"
   ]
  },
  {
   "cell_type": "code",
   "execution_count": 37,
   "id": "faafdfff",
   "metadata": {},
   "outputs": [],
   "source": [
    "business_df.drop(cols_to_drop, axis=1, inplace=True)"
   ]
  },
  {
   "attachments": {},
   "cell_type": "markdown",
   "id": "3b929832",
   "metadata": {},
   "source": [
    "Dividing columns into segments for ease of analysis"
   ]
  },
  {
   "cell_type": "code",
   "execution_count": 38,
   "id": "15df724c",
   "metadata": {},
   "outputs": [],
   "source": [
    "# days_of_week \n",
    "# binary_attributes\n",
    "restaurant_attributes = ['HasTV', 'OutdoorSeating', 'RestaurantsTakeOut', 'RestaurantsDelivery',\n",
    "'RestaurantsGoodForGroups', 'RestaurantsPriceRange2', 'GoodForKids', 'BikeParking', 'Caters', \n",
    "'BusinessAcceptsCreditCards', 'WheelchairAccessible', 'RestaurantsReservations', 'Alcohol2',\n",
    "'BusinessParking2', 'NoiseLevel2', 'Ambience2', 'WiFi2', 'business_id']\n",
    "\n",
    "remaining_attributes = set(restaurant_attributes) - set(binary_attributes)"
   ]
  },
  {
   "cell_type": "code",
   "execution_count": 39,
   "id": "408659d1",
   "metadata": {},
   "outputs": [
    {
     "name": "stdout",
     "output_type": "stream",
     "text": [
      "<class 'pandas.core.frame.DataFrame'>\n",
      "RangeIndex: 101 entries, 0 to 100\n",
      "Data columns (total 31 columns):\n",
      " #   Column                      Non-Null Count  Dtype  \n",
      "---  ------                      --------------  -----  \n",
      " 0   business_id                 101 non-null    object \n",
      " 1   name                        101 non-null    object \n",
      " 2   city                        101 non-null    object \n",
      " 3   state                       101 non-null    object \n",
      " 4   postal_code                 101 non-null    float64\n",
      " 5   stars                       101 non-null    float64\n",
      " 6   review_count                101 non-null    int64  \n",
      " 7   HasTV                       101 non-null    object \n",
      " 8   OutdoorSeating              101 non-null    bool   \n",
      " 9   RestaurantsTakeOut          101 non-null    bool   \n",
      " 10  RestaurantsDelivery         101 non-null    bool   \n",
      " 11  RestaurantsGoodForGroups    101 non-null    object \n",
      " 12  Monday                      101 non-null    object \n",
      " 13  Tuesday                     101 non-null    object \n",
      " 14  Wednesday                   101 non-null    object \n",
      " 15  Thursday                    101 non-null    object \n",
      " 16  Friday                      101 non-null    object \n",
      " 17  Saturday                    101 non-null    object \n",
      " 18  Sunday                      101 non-null    object \n",
      " 19  RestaurantsPriceRange2      101 non-null    object \n",
      " 20  GoodForKids                 101 non-null    object \n",
      " 21  BikeParking                 101 non-null    bool   \n",
      " 22  Caters                      101 non-null    object \n",
      " 23  BusinessAcceptsCreditCards  101 non-null    object \n",
      " 24  WheelchairAccessible        101 non-null    object \n",
      " 25  RestaurantsReservations     101 non-null    bool   \n",
      " 26  Alcohol2                    101 non-null    object \n",
      " 27  BusinessParking2            101 non-null    object \n",
      " 28  NoiseLevel2                 101 non-null    object \n",
      " 29  Ambience2                   101 non-null    object \n",
      " 30  FreeWifi                    101 non-null    bool   \n",
      "dtypes: bool(6), float64(2), int64(1), object(22)\n",
      "memory usage: 20.4+ KB\n"
     ]
    }
   ],
   "source": [
    "business_df.info()"
   ]
  },
  {
   "cell_type": "markdown",
   "id": "59eca99e",
   "metadata": {},
   "source": [
    "Fixing the Restaurant timings\n",
    "> Separate the opening and closing hours of each day of week into separate columns\n"
   ]
  },
  {
   "cell_type": "code",
   "execution_count": 40,
   "id": "8bbfa76d",
   "metadata": {},
   "outputs": [],
   "source": [
    "business_df[['Monday_opening_hour', 'Monday_closing_hour']] = business_df['Monday'].str.split(\"-\", expand=True)\n",
    "business_df[['Tuesday_opening_hour', 'Tuesday_closing_hour']] = business_df['Tuesday'].str.split(\"-\", expand=True)\n",
    "business_df[['Wednesday_opening_hour', 'Wednesday_closing_hour']] = business_df['Wednesday'].str.split(\"-\", expand=True)\n",
    "business_df[['Thursday_opening_hour', 'Thursday_closing_hour']] = business_df['Thursday'].str.split(\"-\", expand=True)\n",
    "business_df[['Friday_opening_hour', 'Friday_closing_hour']] = business_df['Friday'].str.split(\"-\", expand=True)\n",
    "business_df[['Saturday_opening_hour', 'Saturday_closing_hour']] = business_df['Saturday'].str.split(\"-\", expand=True)\n",
    "business_df[['Sunday_opening_hour', 'Sunday_closing_hour']] = business_df['Sunday'].str.split(\"-\", expand=True)"
   ]
  },
  {
   "cell_type": "code",
   "execution_count": 41,
   "id": "64d0dedb",
   "metadata": {},
   "outputs": [],
   "source": [
    "# Step 2: Convert to 24-hour time format\n",
    "def convert_to_24_hour(time_str):\n",
    "    hour, minute = map(int, time_str.split(':'))\n",
    "    return f\"{hour:02d}:{minute:02d}\""
   ]
  },
  {
   "cell_type": "code",
   "execution_count": 42,
   "id": "d141f395",
   "metadata": {},
   "outputs": [],
   "source": [
    "# All opening hours of the week\n",
    "business_df['Monday_opening_hour'] = business_df['Monday_opening_hour'].str.split(':').str.get(0)\n",
    "business_df['Monday_opening_hour'] = pd.to_numeric(business_df['Monday_opening_hour'])\n",
    "\n",
    "business_df['Tuesday_opening_hour'] = business_df['Tuesday_opening_hour'].str.split(':').str.get(0)\n",
    "business_df['Tuesday_opening_hour'] = pd.to_numeric(business_df['Tuesday_opening_hour'])\n",
    "\n",
    "business_df['Wednesday_opening_hour'] = business_df['Wednesday_opening_hour'].str.split(':').str.get(0)\n",
    "business_df['Wednesday_opening_hour'] = pd.to_numeric(business_df['Wednesday_opening_hour'])\n",
    "\n",
    "business_df['Thursday_opening_hour'] = business_df['Thursday_opening_hour'].str.split(':').str.get(0)\n",
    "business_df['Thursday_opening_hour'] = pd.to_numeric(business_df['Thursday_opening_hour'])\n",
    "\n",
    "business_df['Friday_opening_hour'] = business_df['Friday_opening_hour'].str.split(':').str.get(0)\n",
    "business_df['Friday_opening_hour'] = pd.to_numeric(business_df['Friday_opening_hour'])\n",
    "\n",
    "business_df['Saturday_opening_hour'] = business_df['Saturday_opening_hour'].str.split(':').str.get(0)\n",
    "business_df['Saturday_opening_hour'] = pd.to_numeric(business_df['Saturday_opening_hour'])\n",
    "\n",
    "business_df['Sunday_opening_hour'] = business_df['Sunday_opening_hour'].str.split(':').str.get(0)\n",
    "business_df['Sunday_opening_hour'] = pd.to_numeric(business_df['Sunday_opening_hour'])\n"
   ]
  },
  {
   "cell_type": "code",
   "execution_count": 43,
   "id": "28ad4f85",
   "metadata": {},
   "outputs": [],
   "source": [
    "# All closing hours in a week\n",
    "business_df['Monday_closing_hour'] = business_df['Monday_closing_hour'].str.split(':').str.get(0)\n",
    "business_df['Monday_closing_hour'] = pd.to_numeric(business_df['Monday_closing_hour'])\n",
    "\n",
    "business_df['Tuesday_closing_hour'] = business_df['Tuesday_closing_hour'].str.split(':').str.get(0)\n",
    "business_df['Tuesday_closing_hour'] = pd.to_numeric(business_df['Tuesday_closing_hour'])\n",
    "\n",
    "business_df['Wednesday_closing_hour'] = business_df['Wednesday_closing_hour'].str.split(':').str.get(0)\n",
    "business_df['Wednesday_closing_hour'] = pd.to_numeric(business_df['Wednesday_closing_hour'])\n",
    "\n",
    "business_df['Thursday_closing_hour'] = business_df['Thursday_closing_hour'].str.split(':').str.get(0)\n",
    "business_df['Thursday_closing_hour'] = pd.to_numeric(business_df['Thursday_closing_hour'])\n",
    "\n",
    "business_df['Friday_closing_hour'] = business_df['Friday_closing_hour'].str.split(':').str.get(0)\n",
    "business_df['Friday_closing_hour'] = pd.to_numeric(business_df['Friday_closing_hour'])\n",
    "\n",
    "business_df['Saturday_closing_hour'] = business_df['Saturday_closing_hour'].str.split(':').str.get(0)\n",
    "business_df['Saturday_closing_hour'] = pd.to_numeric(business_df['Saturday_closing_hour'])\n",
    "\n",
    "business_df['Sunday_closing_hour'] = business_df['Sunday_closing_hour'].str.split(':').str.get(0)\n",
    "business_df['Sunday_closing_hour'] = pd.to_numeric(business_df['Sunday_closing_hour'])\n",
    "\n",
    "\n"
   ]
  },
  {
   "cell_type": "code",
   "execution_count": 44,
   "id": "a10c7f39",
   "metadata": {},
   "outputs": [],
   "source": [
    "week_days = ['Monday', 'Tuesday', 'Wednesday', 'Thursday', 'Friday', 'Saturday', 'Sunday']\n",
    "for day in week_days:\n",
    "  business_df.loc[business_df[f'{day}_closing_hour'] == 0, f'{day}_closing_hour'] = 24"
   ]
  },
  {
   "cell_type": "code",
   "execution_count": 45,
   "id": "e921c850",
   "metadata": {},
   "outputs": [],
   "source": [
    "business_df = business_df.drop(week_days, axis=1)"
   ]
  },
  {
   "cell_type": "code",
   "execution_count": 46,
   "id": "8d12fa10",
   "metadata": {},
   "outputs": [],
   "source": [
    "business_df.to_csv('imp_business_cleaned_data.csv', index=False)"
   ]
  }
 ],
 "metadata": {
  "kernelspec": {
   "display_name": "Python 3 (ipykernel)",
   "language": "python",
   "name": "python3"
  },
  "language_info": {
   "codemirror_mode": {
    "name": "ipython",
    "version": 3
   },
   "file_extension": ".py",
   "mimetype": "text/x-python",
   "name": "python",
   "nbconvert_exporter": "python",
   "pygments_lexer": "ipython3",
   "version": "3.9.16"
  }
 },
 "nbformat": 4,
 "nbformat_minor": 5
}
